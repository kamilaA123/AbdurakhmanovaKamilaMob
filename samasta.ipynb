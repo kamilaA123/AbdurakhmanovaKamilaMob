{
 "cells": [
  {
   "cell_type": "code",
   "execution_count": 4,
   "id": "37a7ed6d",
   "metadata": {},
   "outputs": [],
   "source": [
    "import numpy as np\n",
    "import pandas as pd\n",
    "import seaborn as sns\n",
    "import matplotlib.pyplot as plt"
   ]
  },
  {
   "cell_type": "code",
   "execution_count": 5,
   "id": "c64c13d9",
   "metadata": {},
   "outputs": [],
   "source": [
    "df = pd.read_csv(\"heroes_information.csv\")\n",
    "df1 = pd.read_csv('super_hero_powers.csv')"
   ]
  },
  {
   "cell_type": "code",
   "execution_count": 6,
   "id": "3b3ed073",
   "metadata": {},
   "outputs": [
    {
     "data": {
      "text/html": [
       "<div>\n",
       "<style scoped>\n",
       "    .dataframe tbody tr th:only-of-type {\n",
       "        vertical-align: middle;\n",
       "    }\n",
       "\n",
       "    .dataframe tbody tr th {\n",
       "        vertical-align: top;\n",
       "    }\n",
       "\n",
       "    .dataframe thead th {\n",
       "        text-align: right;\n",
       "    }\n",
       "</style>\n",
       "<table border=\"1\" class=\"dataframe\">\n",
       "  <thead>\n",
       "    <tr style=\"text-align: right;\">\n",
       "      <th></th>\n",
       "      <th>Unnamed: 0</th>\n",
       "      <th>name</th>\n",
       "      <th>Gender</th>\n",
       "      <th>Eye color</th>\n",
       "      <th>Race</th>\n",
       "      <th>Hair color</th>\n",
       "      <th>Height</th>\n",
       "      <th>Publisher</th>\n",
       "      <th>Skin color</th>\n",
       "      <th>Alignment</th>\n",
       "      <th>Weight</th>\n",
       "    </tr>\n",
       "  </thead>\n",
       "  <tbody>\n",
       "    <tr>\n",
       "      <th>0</th>\n",
       "      <td>0</td>\n",
       "      <td>A-Bomb</td>\n",
       "      <td>Male</td>\n",
       "      <td>yellow</td>\n",
       "      <td>Human</td>\n",
       "      <td>No Hair</td>\n",
       "      <td>203.0</td>\n",
       "      <td>Marvel Comics</td>\n",
       "      <td>-</td>\n",
       "      <td>good</td>\n",
       "      <td>441.0</td>\n",
       "    </tr>\n",
       "    <tr>\n",
       "      <th>1</th>\n",
       "      <td>1</td>\n",
       "      <td>Abe Sapien</td>\n",
       "      <td>Male</td>\n",
       "      <td>blue</td>\n",
       "      <td>Icthyo Sapien</td>\n",
       "      <td>No Hair</td>\n",
       "      <td>191.0</td>\n",
       "      <td>Dark Horse Comics</td>\n",
       "      <td>blue</td>\n",
       "      <td>good</td>\n",
       "      <td>65.0</td>\n",
       "    </tr>\n",
       "    <tr>\n",
       "      <th>2</th>\n",
       "      <td>2</td>\n",
       "      <td>Abin Sur</td>\n",
       "      <td>Male</td>\n",
       "      <td>blue</td>\n",
       "      <td>Ungaran</td>\n",
       "      <td>No Hair</td>\n",
       "      <td>185.0</td>\n",
       "      <td>DC Comics</td>\n",
       "      <td>red</td>\n",
       "      <td>good</td>\n",
       "      <td>90.0</td>\n",
       "    </tr>\n",
       "    <tr>\n",
       "      <th>3</th>\n",
       "      <td>3</td>\n",
       "      <td>Abomination</td>\n",
       "      <td>Male</td>\n",
       "      <td>green</td>\n",
       "      <td>Human / Radiation</td>\n",
       "      <td>No Hair</td>\n",
       "      <td>203.0</td>\n",
       "      <td>Marvel Comics</td>\n",
       "      <td>-</td>\n",
       "      <td>bad</td>\n",
       "      <td>441.0</td>\n",
       "    </tr>\n",
       "    <tr>\n",
       "      <th>4</th>\n",
       "      <td>4</td>\n",
       "      <td>Abraxas</td>\n",
       "      <td>Male</td>\n",
       "      <td>blue</td>\n",
       "      <td>Cosmic Entity</td>\n",
       "      <td>Black</td>\n",
       "      <td>-99.0</td>\n",
       "      <td>Marvel Comics</td>\n",
       "      <td>-</td>\n",
       "      <td>bad</td>\n",
       "      <td>-99.0</td>\n",
       "    </tr>\n",
       "  </tbody>\n",
       "</table>\n",
       "</div>"
      ],
      "text/plain": [
       "   Unnamed: 0         name Gender Eye color               Race Hair color  \\\n",
       "0           0       A-Bomb   Male    yellow              Human    No Hair   \n",
       "1           1   Abe Sapien   Male      blue      Icthyo Sapien    No Hair   \n",
       "2           2     Abin Sur   Male      blue            Ungaran    No Hair   \n",
       "3           3  Abomination   Male     green  Human / Radiation    No Hair   \n",
       "4           4      Abraxas   Male      blue      Cosmic Entity      Black   \n",
       "\n",
       "   Height          Publisher Skin color Alignment  Weight  \n",
       "0   203.0      Marvel Comics          -      good   441.0  \n",
       "1   191.0  Dark Horse Comics       blue      good    65.0  \n",
       "2   185.0          DC Comics        red      good    90.0  \n",
       "3   203.0      Marvel Comics          -       bad   441.0  \n",
       "4   -99.0      Marvel Comics          -       bad   -99.0  "
      ]
     },
     "execution_count": 6,
     "metadata": {},
     "output_type": "execute_result"
    }
   ],
   "source": [
    "df.head()"
   ]
  },
  {
   "cell_type": "code",
   "execution_count": 7,
   "id": "53c6c692",
   "metadata": {},
   "outputs": [
    {
     "name": "stdout",
     "output_type": "stream",
     "text": [
      "<class 'pandas.core.frame.DataFrame'>\n",
      "RangeIndex: 734 entries, 0 to 733\n",
      "Data columns (total 11 columns):\n",
      " #   Column      Non-Null Count  Dtype  \n",
      "---  ------      --------------  -----  \n",
      " 0   Unnamed: 0  734 non-null    int64  \n",
      " 1   name        734 non-null    object \n",
      " 2   Gender      734 non-null    object \n",
      " 3   Eye color   734 non-null    object \n",
      " 4   Race        734 non-null    object \n",
      " 5   Hair color  734 non-null    object \n",
      " 6   Height      734 non-null    float64\n",
      " 7   Publisher   719 non-null    object \n",
      " 8   Skin color  734 non-null    object \n",
      " 9   Alignment   734 non-null    object \n",
      " 10  Weight      732 non-null    float64\n",
      "dtypes: float64(2), int64(1), object(8)\n",
      "memory usage: 63.2+ KB\n"
     ]
    }
   ],
   "source": [
    "df.info()"
   ]
  },
  {
   "cell_type": "code",
   "execution_count": 8,
   "id": "f41a2892",
   "metadata": {},
   "outputs": [
    {
     "data": {
      "text/plain": [
       "(734, 11)"
      ]
     },
     "execution_count": 8,
     "metadata": {},
     "output_type": "execute_result"
    }
   ],
   "source": [
    "df.shape"
   ]
  },
  {
   "cell_type": "code",
   "execution_count": 9,
   "id": "4adaefaf",
   "metadata": {},
   "outputs": [
    {
     "data": {
      "text/html": [
       "<div>\n",
       "<style scoped>\n",
       "    .dataframe tbody tr th:only-of-type {\n",
       "        vertical-align: middle;\n",
       "    }\n",
       "\n",
       "    .dataframe tbody tr th {\n",
       "        vertical-align: top;\n",
       "    }\n",
       "\n",
       "    .dataframe thead th {\n",
       "        text-align: right;\n",
       "    }\n",
       "</style>\n",
       "<table border=\"1\" class=\"dataframe\">\n",
       "  <thead>\n",
       "    <tr style=\"text-align: right;\">\n",
       "      <th></th>\n",
       "      <th>count</th>\n",
       "      <th>unique</th>\n",
       "      <th>top</th>\n",
       "      <th>freq</th>\n",
       "      <th>mean</th>\n",
       "      <th>std</th>\n",
       "      <th>min</th>\n",
       "      <th>25%</th>\n",
       "      <th>50%</th>\n",
       "      <th>75%</th>\n",
       "      <th>max</th>\n",
       "    </tr>\n",
       "  </thead>\n",
       "  <tbody>\n",
       "    <tr>\n",
       "      <th>Unnamed: 0</th>\n",
       "      <td>734.0</td>\n",
       "      <td>NaN</td>\n",
       "      <td>NaN</td>\n",
       "      <td>NaN</td>\n",
       "      <td>366.5</td>\n",
       "      <td>212.031837</td>\n",
       "      <td>0.0</td>\n",
       "      <td>183.25</td>\n",
       "      <td>366.5</td>\n",
       "      <td>549.75</td>\n",
       "      <td>733.0</td>\n",
       "    </tr>\n",
       "    <tr>\n",
       "      <th>name</th>\n",
       "      <td>734</td>\n",
       "      <td>715</td>\n",
       "      <td>Goliath</td>\n",
       "      <td>3</td>\n",
       "      <td>NaN</td>\n",
       "      <td>NaN</td>\n",
       "      <td>NaN</td>\n",
       "      <td>NaN</td>\n",
       "      <td>NaN</td>\n",
       "      <td>NaN</td>\n",
       "      <td>NaN</td>\n",
       "    </tr>\n",
       "    <tr>\n",
       "      <th>Gender</th>\n",
       "      <td>734</td>\n",
       "      <td>3</td>\n",
       "      <td>Male</td>\n",
       "      <td>505</td>\n",
       "      <td>NaN</td>\n",
       "      <td>NaN</td>\n",
       "      <td>NaN</td>\n",
       "      <td>NaN</td>\n",
       "      <td>NaN</td>\n",
       "      <td>NaN</td>\n",
       "      <td>NaN</td>\n",
       "    </tr>\n",
       "    <tr>\n",
       "      <th>Eye color</th>\n",
       "      <td>734</td>\n",
       "      <td>23</td>\n",
       "      <td>blue</td>\n",
       "      <td>225</td>\n",
       "      <td>NaN</td>\n",
       "      <td>NaN</td>\n",
       "      <td>NaN</td>\n",
       "      <td>NaN</td>\n",
       "      <td>NaN</td>\n",
       "      <td>NaN</td>\n",
       "      <td>NaN</td>\n",
       "    </tr>\n",
       "    <tr>\n",
       "      <th>Race</th>\n",
       "      <td>734</td>\n",
       "      <td>62</td>\n",
       "      <td>-</td>\n",
       "      <td>304</td>\n",
       "      <td>NaN</td>\n",
       "      <td>NaN</td>\n",
       "      <td>NaN</td>\n",
       "      <td>NaN</td>\n",
       "      <td>NaN</td>\n",
       "      <td>NaN</td>\n",
       "      <td>NaN</td>\n",
       "    </tr>\n",
       "    <tr>\n",
       "      <th>Hair color</th>\n",
       "      <td>734</td>\n",
       "      <td>30</td>\n",
       "      <td>-</td>\n",
       "      <td>172</td>\n",
       "      <td>NaN</td>\n",
       "      <td>NaN</td>\n",
       "      <td>NaN</td>\n",
       "      <td>NaN</td>\n",
       "      <td>NaN</td>\n",
       "      <td>NaN</td>\n",
       "      <td>NaN</td>\n",
       "    </tr>\n",
       "    <tr>\n",
       "      <th>Height</th>\n",
       "      <td>734.0</td>\n",
       "      <td>NaN</td>\n",
       "      <td>NaN</td>\n",
       "      <td>NaN</td>\n",
       "      <td>102.254087</td>\n",
       "      <td>139.624543</td>\n",
       "      <td>-99.0</td>\n",
       "      <td>-99.0</td>\n",
       "      <td>175.0</td>\n",
       "      <td>185.0</td>\n",
       "      <td>975.0</td>\n",
       "    </tr>\n",
       "    <tr>\n",
       "      <th>Publisher</th>\n",
       "      <td>719</td>\n",
       "      <td>24</td>\n",
       "      <td>Marvel Comics</td>\n",
       "      <td>388</td>\n",
       "      <td>NaN</td>\n",
       "      <td>NaN</td>\n",
       "      <td>NaN</td>\n",
       "      <td>NaN</td>\n",
       "      <td>NaN</td>\n",
       "      <td>NaN</td>\n",
       "      <td>NaN</td>\n",
       "    </tr>\n",
       "    <tr>\n",
       "      <th>Skin color</th>\n",
       "      <td>734</td>\n",
       "      <td>17</td>\n",
       "      <td>-</td>\n",
       "      <td>662</td>\n",
       "      <td>NaN</td>\n",
       "      <td>NaN</td>\n",
       "      <td>NaN</td>\n",
       "      <td>NaN</td>\n",
       "      <td>NaN</td>\n",
       "      <td>NaN</td>\n",
       "      <td>NaN</td>\n",
       "    </tr>\n",
       "    <tr>\n",
       "      <th>Alignment</th>\n",
       "      <td>734</td>\n",
       "      <td>4</td>\n",
       "      <td>good</td>\n",
       "      <td>496</td>\n",
       "      <td>NaN</td>\n",
       "      <td>NaN</td>\n",
       "      <td>NaN</td>\n",
       "      <td>NaN</td>\n",
       "      <td>NaN</td>\n",
       "      <td>NaN</td>\n",
       "      <td>NaN</td>\n",
       "    </tr>\n",
       "    <tr>\n",
       "      <th>Weight</th>\n",
       "      <td>732.0</td>\n",
       "      <td>NaN</td>\n",
       "      <td>NaN</td>\n",
       "      <td>NaN</td>\n",
       "      <td>43.855191</td>\n",
       "      <td>130.823733</td>\n",
       "      <td>-99.0</td>\n",
       "      <td>-99.0</td>\n",
       "      <td>62.0</td>\n",
       "      <td>90.0</td>\n",
       "      <td>900.0</td>\n",
       "    </tr>\n",
       "  </tbody>\n",
       "</table>\n",
       "</div>"
      ],
      "text/plain": [
       "            count unique            top freq        mean         std   min  \\\n",
       "Unnamed: 0  734.0    NaN            NaN  NaN       366.5  212.031837   0.0   \n",
       "name          734    715        Goliath    3         NaN         NaN   NaN   \n",
       "Gender        734      3           Male  505         NaN         NaN   NaN   \n",
       "Eye color     734     23           blue  225         NaN         NaN   NaN   \n",
       "Race          734     62              -  304         NaN         NaN   NaN   \n",
       "Hair color    734     30              -  172         NaN         NaN   NaN   \n",
       "Height      734.0    NaN            NaN  NaN  102.254087  139.624543 -99.0   \n",
       "Publisher     719     24  Marvel Comics  388         NaN         NaN   NaN   \n",
       "Skin color    734     17              -  662         NaN         NaN   NaN   \n",
       "Alignment     734      4           good  496         NaN         NaN   NaN   \n",
       "Weight      732.0    NaN            NaN  NaN   43.855191  130.823733 -99.0   \n",
       "\n",
       "               25%    50%     75%    max  \n",
       "Unnamed: 0  183.25  366.5  549.75  733.0  \n",
       "name           NaN    NaN     NaN    NaN  \n",
       "Gender         NaN    NaN     NaN    NaN  \n",
       "Eye color      NaN    NaN     NaN    NaN  \n",
       "Race           NaN    NaN     NaN    NaN  \n",
       "Hair color     NaN    NaN     NaN    NaN  \n",
       "Height       -99.0  175.0   185.0  975.0  \n",
       "Publisher      NaN    NaN     NaN    NaN  \n",
       "Skin color     NaN    NaN     NaN    NaN  \n",
       "Alignment      NaN    NaN     NaN    NaN  \n",
       "Weight       -99.0   62.0    90.0  900.0  "
      ]
     },
     "execution_count": 9,
     "metadata": {},
     "output_type": "execute_result"
    }
   ],
   "source": [
    "df.describe(include='all').T"
   ]
  },
  {
   "cell_type": "markdown",
   "id": "dae9fa83",
   "metadata": {},
   "source": [
    "# Описание данных\n",
    "- name (Имя) - Имя супергероя.\n",
    "- Gender (Пол) - Пол супергероя (мужской, женский).\n",
    "- Eye color (Цвет глаз) - Цвет глаз супергероя.\n",
    "- Race (Раса) - Раса или происхождение супергероя (человек, инопланетянин, мутант и т.д.).\n",
    "- Hair color (Цвет волос) - Цвет волос супергероя.\n",
    "- Height (Рост) - Рост супергероя, измеренный в футах и дюймах.\n",
    "- Publisher (Издатель) - Компания, выпустившая персонажа (Marvel, DC и т.д.).\n",
    "- Skin color (Цвет кожи) - Цвет кожи супергероя.\n",
    "- Alignment (Выравнивание) - Моральное выравнивание супергероя (хороший, нейтральный, злой).\n",
    "- Weight (Вес) - Масса супергероя, измеренная в фунтах."
   ]
  },
  {
   "cell_type": "markdown",
   "id": "7b4a99f0",
   "metadata": {},
   "source": [
    " Есть пустые значения, есть анамальные значения."
   ]
  },
  {
   "cell_type": "code",
   "execution_count": 30,
   "id": "4b577ad0",
   "metadata": {},
   "outputs": [
    {
     "data": {
      "text/plain": [
       "0"
      ]
     },
     "execution_count": 30,
     "metadata": {},
     "output_type": "execute_result"
    }
   ],
   "source": [
    "# Проверка на дубликаты\n",
    "df.duplicated().sum()   "
   ]
  },
  {
   "cell_type": "code",
   "execution_count": 10,
   "id": "a014a9ce",
   "metadata": {},
   "outputs": [
    {
     "data": {
      "text/plain": [
       "Unnamed: 0     0\n",
       "name           0\n",
       "Gender         0\n",
       "Eye color      0\n",
       "Race           0\n",
       "Hair color     0\n",
       "Height         0\n",
       "Publisher     15\n",
       "Skin color     0\n",
       "Alignment      0\n",
       "Weight         2\n",
       "dtype: int64"
      ]
     },
     "execution_count": 10,
     "metadata": {},
     "output_type": "execute_result"
    }
   ],
   "source": [
    "# проверка на отсутствующие значения для всех колонок датафрейма\n",
    "df.isna().sum()"
   ]
  },
  {
   "cell_type": "code",
   "execution_count": 32,
   "id": "e54a48b0",
   "metadata": {},
   "outputs": [
    {
     "name": "stdout",
     "output_type": "stream",
     "text": [
      "Кол-во пропусков в колонке Unnamed: 0 = 0\n",
      "Кол-во пропусков в колонке name = 0\n",
      "Кол-во пропусков в колонке Gender = 0\n",
      "Кол-во пропусков в колонке Eye color = 0\n",
      "Кол-во пропусков в колонке Race = 0\n",
      "Кол-во пропусков в колонке Hair color = 0\n",
      "Кол-во пропусков в колонке Height = 0\n",
      "Кол-во пропусков в колонке Publisher = 15\n",
      "Кол-во пропусков в колонке Skin color = 0\n",
      "Кол-во пропусков в колонке Alignment = 0\n",
      "Кол-во пропусков в колонке Weight = 2\n"
     ]
    }
   ],
   "source": [
    "for col in df.columns:\n",
    "    print('Кол-во пропусков в колонке %s = %d' % (col, df[col].isna().sum()))"
   ]
  },
  {
   "cell_type": "code",
   "execution_count": 33,
   "id": "d816540f",
   "metadata": {},
   "outputs": [
    {
     "name": "stdout",
     "output_type": "stream",
     "text": [
      "Кол-во пропусков в колонке Unnamed: 0 =0.00 % \n",
      "Кол-во пропусков в колонке name =0.00 % \n",
      "Кол-во пропусков в колонке Gender =0.00 % \n",
      "Кол-во пропусков в колонке Eye color =0.00 % \n",
      "Кол-во пропусков в колонке Race =0.00 % \n",
      "Кол-во пропусков в колонке Hair color =0.00 % \n",
      "Кол-во пропусков в колонке Height =0.00 % \n",
      "Кол-во пропусков в колонке Publisher =2.04 % \n",
      "Кол-во пропусков в колонке Skin color =0.00 % \n",
      "Кол-во пропусков в колонке Alignment =0.00 % \n",
      "Кол-во пропусков в колонке Weight =0.27 % \n"
     ]
    }
   ],
   "source": [
    "for col in df.columns:\n",
    "    print(f'Кол-во пропусков в колонке {col} ={df[col].isna().sum()/df.shape[0] * 100:.2f} % ')"
   ]
  },
  {
   "cell_type": "code",
   "execution_count": 11,
   "id": "f2d364bd",
   "metadata": {},
   "outputs": [
    {
     "data": {
      "image/png": "[encoded data removed]",
      "text/plain": [
       "<Figure size 800x400 with 1 Axes>"
      ]
     },
     "metadata": {},
     "output_type": "display_data"
    }
   ],
   "source": [
    "# Подсчет пропущенных значений в каждом столбце\n",
    "missing_data = df.isna().sum()\n",
    "\n",
    "# Построение гистограммы пропущенных значений\n",
    "missing_data.plot(kind='bar', figsize=(8, 4))\n",
    "plt.title(\"Отсутствующие значения\")\n",
    "plt.ylabel(\"Количество пропущенных значений\")\n",
    "plt.show()"
   ]
  },
  {
   "cell_type": "code",
   "execution_count": 12,
   "id": "7fda5972",
   "metadata": {},
   "outputs": [
    {
     "data": {
      "text/plain": [
       "0"
      ]
     },
     "execution_count": 12,
     "metadata": {},
     "output_type": "execute_result"
    }
   ],
   "source": [
    "# Проверка на дублирование записей\n",
    "df.duplicated().sum()"
   ]
  },
  {
   "cell_type": "code",
   "execution_count": 13,
   "id": "6169a626",
   "metadata": {},
   "outputs": [],
   "source": [
    "df['Publisher'] = df['Publisher'].fillna(value=df['Publisher'].mode()[0])"
   ]
  },
  {
   "cell_type": "code",
   "execution_count": 14,
   "id": "278c82f6",
   "metadata": {},
   "outputs": [],
   "source": [
    "df['Weight'] = df['Weight'].fillna(value=df['Weight'].mode()[0])"
   ]
  },
  {
   "cell_type": "code",
   "execution_count": 15,
   "id": "e7ebcd8c",
   "metadata": {},
   "outputs": [
    {
     "data": {
      "text/plain": [
       "Unnamed: 0    0\n",
       "name          0\n",
       "Gender        0\n",
       "Eye color     0\n",
       "Race          0\n",
       "Hair color    0\n",
       "Height        0\n",
       "Publisher     0\n",
       "Skin color    0\n",
       "Alignment     0\n",
       "Weight        0\n",
       "dtype: int64"
      ]
     },
     "execution_count": 15,
     "metadata": {},
     "output_type": "execute_result"
    }
   ],
   "source": [
    "df.isna().sum()"
   ]
  },
  {
   "cell_type": "code",
   "execution_count": 16,
   "id": "28b8a024",
   "metadata": {},
   "outputs": [
    {
     "data": {
      "text/plain": [
       "Marvel Comics        403\n",
       "DC Comics            215\n",
       "NBC - Heroes          19\n",
       "Dark Horse Comics     18\n",
       "George Lucas          14\n",
       "Image Comics          14\n",
       "Star Trek              6\n",
       "HarperCollins          6\n",
       "SyFy                   5\n",
       "Team Epic TV           5\n",
       "Icon Comics            4\n",
       "ABC Studios            4\n",
       "IDW Publishing         4\n",
       "Shueisha               4\n",
       "Wildstorm              3\n",
       "Sony Pictures          2\n",
       "Hanna-Barbera          1\n",
       "South Park             1\n",
       "Universal Studios      1\n",
       "J. K. Rowling          1\n",
       "Titan Books            1\n",
       "Rebellion              1\n",
       "Microsoft              1\n",
       "J. R. R. Tolkien       1\n",
       "Name: Publisher, dtype: int64"
      ]
     },
     "execution_count": 16,
     "metadata": {},
     "output_type": "execute_result"
    }
   ],
   "source": [
    "df['Publisher'].value_counts()"
   ]
  },
  {
   "cell_type": "code",
   "execution_count": 40,
   "id": "69e15cab",
   "metadata": {},
   "outputs": [
    {
     "data": {
      "text/plain": [
       "-99.0     239\n",
       " 54.0      23\n",
       " 79.0      23\n",
       " 81.0      22\n",
       " 90.0      19\n",
       "         ... \n",
       " 119.0      1\n",
       " 48.0       1\n",
       " 4.0        1\n",
       " 115.0      1\n",
       " 17.0       1\n",
       "Name: Weight, Length: 135, dtype: int64"
      ]
     },
     "execution_count": 40,
     "metadata": {},
     "output_type": "execute_result"
    }
   ],
   "source": [
    "df['Weight'].value_counts()"
   ]
  },
  {
   "cell_type": "markdown",
   "id": "ae9823e9",
   "metadata": {},
   "source": [
    "Изменили аномальные значения"
   ]
  },
  {
   "cell_type": "code",
   "execution_count": 41,
   "id": "44a0f29f",
   "metadata": {},
   "outputs": [
    {
     "data": {
      "text/html": [
       "<div>\n",
       "<style scoped>\n",
       "    .dataframe tbody tr th:only-of-type {\n",
       "        vertical-align: middle;\n",
       "    }\n",
       "\n",
       "    .dataframe tbody tr th {\n",
       "        vertical-align: top;\n",
       "    }\n",
       "\n",
       "    .dataframe thead th {\n",
       "        text-align: right;\n",
       "    }\n",
       "</style>\n",
       "<table border=\"1\" class=\"dataframe\">\n",
       "  <thead>\n",
       "    <tr style=\"text-align: right;\">\n",
       "      <th></th>\n",
       "      <th>Unnamed: 0</th>\n",
       "      <th>name</th>\n",
       "      <th>Gender</th>\n",
       "      <th>Eye color</th>\n",
       "      <th>Race</th>\n",
       "      <th>Hair color</th>\n",
       "      <th>Height</th>\n",
       "      <th>Publisher</th>\n",
       "      <th>Skin color</th>\n",
       "      <th>Alignment</th>\n",
       "      <th>Weight</th>\n",
       "    </tr>\n",
       "  </thead>\n",
       "  <tbody>\n",
       "    <tr>\n",
       "      <th>0</th>\n",
       "      <td>0</td>\n",
       "      <td>A-Bomb</td>\n",
       "      <td>Male</td>\n",
       "      <td>yellow</td>\n",
       "      <td>Human</td>\n",
       "      <td>No Hair</td>\n",
       "      <td>203.0</td>\n",
       "      <td>Marvel Comics</td>\n",
       "      <td>-</td>\n",
       "      <td>good</td>\n",
       "      <td>441.0</td>\n",
       "    </tr>\n",
       "    <tr>\n",
       "      <th>1</th>\n",
       "      <td>1</td>\n",
       "      <td>Abe Sapien</td>\n",
       "      <td>Male</td>\n",
       "      <td>blue</td>\n",
       "      <td>Icthyo Sapien</td>\n",
       "      <td>No Hair</td>\n",
       "      <td>191.0</td>\n",
       "      <td>Dark Horse Comics</td>\n",
       "      <td>blue</td>\n",
       "      <td>good</td>\n",
       "      <td>65.0</td>\n",
       "    </tr>\n",
       "    <tr>\n",
       "      <th>2</th>\n",
       "      <td>2</td>\n",
       "      <td>Abin Sur</td>\n",
       "      <td>Male</td>\n",
       "      <td>blue</td>\n",
       "      <td>Ungaran</td>\n",
       "      <td>No Hair</td>\n",
       "      <td>185.0</td>\n",
       "      <td>DC Comics</td>\n",
       "      <td>red</td>\n",
       "      <td>good</td>\n",
       "      <td>90.0</td>\n",
       "    </tr>\n",
       "    <tr>\n",
       "      <th>3</th>\n",
       "      <td>3</td>\n",
       "      <td>Abomination</td>\n",
       "      <td>Male</td>\n",
       "      <td>green</td>\n",
       "      <td>Human / Radiation</td>\n",
       "      <td>No Hair</td>\n",
       "      <td>203.0</td>\n",
       "      <td>Marvel Comics</td>\n",
       "      <td>-</td>\n",
       "      <td>bad</td>\n",
       "      <td>441.0</td>\n",
       "    </tr>\n",
       "    <tr>\n",
       "      <th>4</th>\n",
       "      <td>4</td>\n",
       "      <td>Abraxas</td>\n",
       "      <td>Male</td>\n",
       "      <td>blue</td>\n",
       "      <td>Cosmic Entity</td>\n",
       "      <td>Black</td>\n",
       "      <td>99.0</td>\n",
       "      <td>Marvel Comics</td>\n",
       "      <td>-</td>\n",
       "      <td>bad</td>\n",
       "      <td>-99.0</td>\n",
       "    </tr>\n",
       "  </tbody>\n",
       "</table>\n",
       "</div>"
      ],
      "text/plain": [
       "   Unnamed: 0         name Gender Eye color               Race Hair color  \\\n",
       "0           0       A-Bomb   Male    yellow              Human    No Hair   \n",
       "1           1   Abe Sapien   Male      blue      Icthyo Sapien    No Hair   \n",
       "2           2     Abin Sur   Male      blue            Ungaran    No Hair   \n",
       "3           3  Abomination   Male     green  Human / Radiation    No Hair   \n",
       "4           4      Abraxas   Male      blue      Cosmic Entity      Black   \n",
       "\n",
       "   Height          Publisher Skin color Alignment  Weight  \n",
       "0   203.0      Marvel Comics          -      good   441.0  \n",
       "1   191.0  Dark Horse Comics       blue      good    65.0  \n",
       "2   185.0          DC Comics        red      good    90.0  \n",
       "3   203.0      Marvel Comics          -       bad   441.0  \n",
       "4    99.0      Marvel Comics          -       bad   -99.0  "
      ]
     },
     "execution_count": 41,
     "metadata": {},
     "output_type": "execute_result"
    }
   ],
   "source": [
    "df['Height'] = df['Height'].abs()\n",
    "df.head()"
   ]
  },
  {
   "cell_type": "code",
   "execution_count": 43,
   "id": "bc5f5a0d",
   "metadata": {},
   "outputs": [
    {
     "data": {
      "text/html": [
       "<div>\n",
       "<style scoped>\n",
       "    .dataframe tbody tr th:only-of-type {\n",
       "        vertical-align: middle;\n",
       "    }\n",
       "\n",
       "    .dataframe tbody tr th {\n",
       "        vertical-align: top;\n",
       "    }\n",
       "\n",
       "    .dataframe thead th {\n",
       "        text-align: right;\n",
       "    }\n",
       "</style>\n",
       "<table border=\"1\" class=\"dataframe\">\n",
       "  <thead>\n",
       "    <tr style=\"text-align: right;\">\n",
       "      <th></th>\n",
       "      <th>Unnamed: 0</th>\n",
       "      <th>name</th>\n",
       "      <th>Gender</th>\n",
       "      <th>Eye color</th>\n",
       "      <th>Race</th>\n",
       "      <th>Hair color</th>\n",
       "      <th>Height</th>\n",
       "      <th>Publisher</th>\n",
       "      <th>Skin color</th>\n",
       "      <th>Alignment</th>\n",
       "      <th>Weight</th>\n",
       "    </tr>\n",
       "  </thead>\n",
       "  <tbody>\n",
       "    <tr>\n",
       "      <th>0</th>\n",
       "      <td>0</td>\n",
       "      <td>A-Bomb</td>\n",
       "      <td>Male</td>\n",
       "      <td>yellow</td>\n",
       "      <td>Human</td>\n",
       "      <td>No Hair</td>\n",
       "      <td>203.0</td>\n",
       "      <td>Marvel Comics</td>\n",
       "      <td>-</td>\n",
       "      <td>good</td>\n",
       "      <td>441.0</td>\n",
       "    </tr>\n",
       "    <tr>\n",
       "      <th>1</th>\n",
       "      <td>1</td>\n",
       "      <td>Abe Sapien</td>\n",
       "      <td>Male</td>\n",
       "      <td>blue</td>\n",
       "      <td>Icthyo Sapien</td>\n",
       "      <td>No Hair</td>\n",
       "      <td>191.0</td>\n",
       "      <td>Dark Horse Comics</td>\n",
       "      <td>blue</td>\n",
       "      <td>good</td>\n",
       "      <td>65.0</td>\n",
       "    </tr>\n",
       "    <tr>\n",
       "      <th>2</th>\n",
       "      <td>2</td>\n",
       "      <td>Abin Sur</td>\n",
       "      <td>Male</td>\n",
       "      <td>blue</td>\n",
       "      <td>Ungaran</td>\n",
       "      <td>No Hair</td>\n",
       "      <td>185.0</td>\n",
       "      <td>DC Comics</td>\n",
       "      <td>red</td>\n",
       "      <td>good</td>\n",
       "      <td>90.0</td>\n",
       "    </tr>\n",
       "    <tr>\n",
       "      <th>3</th>\n",
       "      <td>3</td>\n",
       "      <td>Abomination</td>\n",
       "      <td>Male</td>\n",
       "      <td>green</td>\n",
       "      <td>Human / Radiation</td>\n",
       "      <td>No Hair</td>\n",
       "      <td>203.0</td>\n",
       "      <td>Marvel Comics</td>\n",
       "      <td>-</td>\n",
       "      <td>bad</td>\n",
       "      <td>441.0</td>\n",
       "    </tr>\n",
       "    <tr>\n",
       "      <th>4</th>\n",
       "      <td>4</td>\n",
       "      <td>Abraxas</td>\n",
       "      <td>Male</td>\n",
       "      <td>blue</td>\n",
       "      <td>Cosmic Entity</td>\n",
       "      <td>Black</td>\n",
       "      <td>99.0</td>\n",
       "      <td>Marvel Comics</td>\n",
       "      <td>-</td>\n",
       "      <td>bad</td>\n",
       "      <td>99.0</td>\n",
       "    </tr>\n",
       "    <tr>\n",
       "      <th>5</th>\n",
       "      <td>5</td>\n",
       "      <td>Absorbing Man</td>\n",
       "      <td>Male</td>\n",
       "      <td>blue</td>\n",
       "      <td>Human</td>\n",
       "      <td>No Hair</td>\n",
       "      <td>193.0</td>\n",
       "      <td>Marvel Comics</td>\n",
       "      <td>-</td>\n",
       "      <td>bad</td>\n",
       "      <td>122.0</td>\n",
       "    </tr>\n",
       "    <tr>\n",
       "      <th>6</th>\n",
       "      <td>6</td>\n",
       "      <td>Adam Monroe</td>\n",
       "      <td>Male</td>\n",
       "      <td>blue</td>\n",
       "      <td>-</td>\n",
       "      <td>Blond</td>\n",
       "      <td>99.0</td>\n",
       "      <td>NBC - Heroes</td>\n",
       "      <td>-</td>\n",
       "      <td>good</td>\n",
       "      <td>99.0</td>\n",
       "    </tr>\n",
       "    <tr>\n",
       "      <th>7</th>\n",
       "      <td>7</td>\n",
       "      <td>Adam Strange</td>\n",
       "      <td>Male</td>\n",
       "      <td>blue</td>\n",
       "      <td>Human</td>\n",
       "      <td>Blond</td>\n",
       "      <td>185.0</td>\n",
       "      <td>DC Comics</td>\n",
       "      <td>-</td>\n",
       "      <td>good</td>\n",
       "      <td>88.0</td>\n",
       "    </tr>\n",
       "    <tr>\n",
       "      <th>8</th>\n",
       "      <td>8</td>\n",
       "      <td>Agent 13</td>\n",
       "      <td>Female</td>\n",
       "      <td>blue</td>\n",
       "      <td>-</td>\n",
       "      <td>Blond</td>\n",
       "      <td>173.0</td>\n",
       "      <td>Marvel Comics</td>\n",
       "      <td>-</td>\n",
       "      <td>good</td>\n",
       "      <td>61.0</td>\n",
       "    </tr>\n",
       "    <tr>\n",
       "      <th>9</th>\n",
       "      <td>9</td>\n",
       "      <td>Agent Bob</td>\n",
       "      <td>Male</td>\n",
       "      <td>brown</td>\n",
       "      <td>Human</td>\n",
       "      <td>Brown</td>\n",
       "      <td>178.0</td>\n",
       "      <td>Marvel Comics</td>\n",
       "      <td>-</td>\n",
       "      <td>good</td>\n",
       "      <td>81.0</td>\n",
       "    </tr>\n",
       "  </tbody>\n",
       "</table>\n",
       "</div>"
      ],
      "text/plain": [
       "   Unnamed: 0           name  Gender Eye color               Race Hair color  \\\n",
       "0           0         A-Bomb    Male    yellow              Human    No Hair   \n",
       "1           1     Abe Sapien    Male      blue      Icthyo Sapien    No Hair   \n",
       "2           2       Abin Sur    Male      blue            Ungaran    No Hair   \n",
       "3           3    Abomination    Male     green  Human / Radiation    No Hair   \n",
       "4           4        Abraxas    Male      blue      Cosmic Entity      Black   \n",
       "5           5  Absorbing Man    Male      blue              Human    No Hair   \n",
       "6           6    Adam Monroe    Male      blue                  -      Blond   \n",
       "7           7   Adam Strange    Male      blue              Human      Blond   \n",
       "8           8       Agent 13  Female      blue                  -      Blond   \n",
       "9           9      Agent Bob    Male     brown              Human      Brown   \n",
       "\n",
       "   Height          Publisher Skin color Alignment  Weight  \n",
       "0   203.0      Marvel Comics          -      good   441.0  \n",
       "1   191.0  Dark Horse Comics       blue      good    65.0  \n",
       "2   185.0          DC Comics        red      good    90.0  \n",
       "3   203.0      Marvel Comics          -       bad   441.0  \n",
       "4    99.0      Marvel Comics          -       bad    99.0  \n",
       "5   193.0      Marvel Comics          -       bad   122.0  \n",
       "6    99.0       NBC - Heroes          -      good    99.0  \n",
       "7   185.0          DC Comics          -      good    88.0  \n",
       "8   173.0      Marvel Comics          -      good    61.0  \n",
       "9   178.0      Marvel Comics          -      good    81.0  "
      ]
     },
     "execution_count": 43,
     "metadata": {},
     "output_type": "execute_result"
    }
   ],
   "source": [
    "df['Weight'] = df['Weight'].abs()\n",
    "df.head(10)"
   ]
  },
  {
   "cell_type": "code",
   "execution_count": 45,
   "id": "438ceb58",
   "metadata": {},
   "outputs": [
    {
     "data": {
      "text/plain": [
       "Male      505\n",
       "Female    200\n",
       "-          29\n",
       "Name: Gender, dtype: int64"
      ]
     },
     "execution_count": 45,
     "metadata": {},
     "output_type": "execute_result"
    }
   ],
   "source": [
    "df['Gender'].value_counts()"
   ]
  },
  {
   "cell_type": "markdown",
   "id": "d3c94439",
   "metadata": {},
   "source": [
    "неопределенный пол просто удаляем"
   ]
  },
  {
   "cell_type": "code",
   "execution_count": 53,
   "id": "7cde0569",
   "metadata": {},
   "outputs": [
    {
     "data": {
      "text/plain": [
       "Male      505\n",
       "Female    200\n",
       "Name: Gender, dtype: int64"
      ]
     },
     "execution_count": 53,
     "metadata": {},
     "output_type": "execute_result"
    }
   ],
   "source": [
    "df = df.loc[df['Gender'] != '-']\n",
    "df['Gender'].value_counts()"
   ]
  },
  {
   "cell_type": "markdown",
   "id": "7c29e78c",
   "metadata": {},
   "source": [
    "видим пустые значения цвета глаз"
   ]
  },
  {
   "cell_type": "code",
   "execution_count": 46,
   "id": "c4a7ea3e",
   "metadata": {},
   "outputs": [
    {
     "data": {
      "text/plain": [
       "blue                       225\n",
       "-                          172\n",
       "brown                      126\n",
       "green                       73\n",
       "red                         46\n",
       "black                       23\n",
       "yellow                      19\n",
       "white                       17\n",
       "grey                         6\n",
       "hazel                        6\n",
       "purple                       4\n",
       "gold                         3\n",
       "violet                       2\n",
       "yellow (without irises)      2\n",
       "amber                        2\n",
       "white / red                  1\n",
       "yellow / blue                1\n",
       "indigo                       1\n",
       "silver                       1\n",
       "green / blue                 1\n",
       "blue / white                 1\n",
       "yellow / red                 1\n",
       "bown                         1\n",
       "Name: Eye color, dtype: int64"
      ]
     },
     "execution_count": 46,
     "metadata": {},
     "output_type": "execute_result"
    }
   ],
   "source": [
    "df['Eye color'].value_counts()"
   ]
  },
  {
   "cell_type": "code",
   "execution_count": 52,
   "id": "56331f02",
   "metadata": {},
   "outputs": [
    {
     "data": {
      "text/plain": [
       "blue                       225\n",
       "No Eyes                    172\n",
       "brown                      126\n",
       "green                       73\n",
       "red                         46\n",
       "black                       23\n",
       "yellow                      19\n",
       "white                       17\n",
       "grey                         6\n",
       "hazel                        6\n",
       "purple                       4\n",
       "gold                         3\n",
       "violet                       2\n",
       "yellow (without irises)      2\n",
       "amber                        2\n",
       "white / red                  1\n",
       "yellow / blue                1\n",
       "indigo                       1\n",
       "silver                       1\n",
       "green / blue                 1\n",
       "blue / white                 1\n",
       "yellow / red                 1\n",
       "bown                         1\n",
       "Name: Eye color, dtype: int64"
      ]
     },
     "execution_count": 52,
     "metadata": {},
     "output_type": "execute_result"
    }
   ],
   "source": [
    "df['Eye color']=df['Eye color'].replace('-', 'No Eyes')\n",
    "df['Eye color'].value_counts()"
   ]
  },
  {
   "cell_type": "code",
   "execution_count": 47,
   "id": "e1957077",
   "metadata": {},
   "outputs": [
    {
     "data": {
      "text/plain": [
       "-                    304\n",
       "Human                208\n",
       "Mutant                63\n",
       "God / Eternal         14\n",
       "Human / Radiation     11\n",
       "                    ... \n",
       "Gorilla                1\n",
       "Rodian                 1\n",
       "Flora Colossus         1\n",
       "Human-Vuldarian        1\n",
       "Yoda's species         1\n",
       "Name: Race, Length: 62, dtype: int64"
      ]
     },
     "execution_count": 47,
     "metadata": {},
     "output_type": "execute_result"
    }
   ],
   "source": [
    "df['Race'].value_counts()"
   ]
  },
  {
   "cell_type": "code",
   "execution_count": 48,
   "id": "aaf9dca5",
   "metadata": {},
   "outputs": [
    {
     "data": {
      "text/plain": [
       "-                   172\n",
       "Black               158\n",
       "Blond                99\n",
       "Brown                86\n",
       "No Hair              75\n",
       "Red                  51\n",
       "White                23\n",
       "Auburn               13\n",
       "Green                 8\n",
       "Strawberry Blond      7\n",
       "Purple                5\n",
       "Grey                  5\n",
       "Silver                4\n",
       "Brown / White         4\n",
       "blond                 3\n",
       "black                 3\n",
       "Blue                  3\n",
       "Orange                2\n",
       "Yellow                2\n",
       "Indigo                1\n",
       "Brownn                1\n",
       "Red / White           1\n",
       "Red / Orange          1\n",
       "Gold                  1\n",
       "Magenta               1\n",
       "Orange / White        1\n",
       "Red / Grey            1\n",
       "Brown / Black         1\n",
       "Pink                  1\n",
       "Black / Blue          1\n",
       "Name: Hair color, dtype: int64"
      ]
     },
     "execution_count": 48,
     "metadata": {},
     "output_type": "execute_result"
    }
   ],
   "source": [
    "df['Hair color'].value_counts()"
   ]
  },
  {
   "cell_type": "markdown",
   "id": "d0c1c557",
   "metadata": {},
   "source": [
    "видим что есть 172 пустых значений"
   ]
  },
  {
   "cell_type": "code",
   "execution_count": 51,
   "id": "da5a8cb3",
   "metadata": {},
   "outputs": [
    {
     "data": {
      "text/plain": [
       "No Hair             247\n",
       "Black               158\n",
       "Blond                99\n",
       "Brown                86\n",
       "Red                  51\n",
       "White                23\n",
       "Auburn               13\n",
       "Green                 8\n",
       "Strawberry Blond      7\n",
       "Purple                5\n",
       "Grey                  5\n",
       "Silver                4\n",
       "Brown / White         4\n",
       "blond                 3\n",
       "black                 3\n",
       "Blue                  3\n",
       "Orange                2\n",
       "Yellow                2\n",
       "Indigo                1\n",
       "Brownn                1\n",
       "Red / White           1\n",
       "Red / Orange          1\n",
       "Gold                  1\n",
       "Magenta               1\n",
       "Orange / White        1\n",
       "Red / Grey            1\n",
       "Brown / Black         1\n",
       "Pink                  1\n",
       "Black / Blue          1\n",
       "Name: Hair color, dtype: int64"
      ]
     },
     "execution_count": 51,
     "metadata": {},
     "output_type": "execute_result"
    }
   ],
   "source": [
    "df['Hair color']=df['Hair color'].replace('-', 'No Hair')\n",
    "df['Hair color'].value_counts()"
   ]
  },
  {
   "cell_type": "markdown",
   "id": "f63a391a",
   "metadata": {},
   "source": [
    "Изменили пустые значения цвета на значение \"нет волос\""
   ]
  },
  {
   "cell_type": "code",
   "execution_count": 49,
   "id": "a1417dc8",
   "metadata": {},
   "outputs": [
    {
     "data": {
      "text/plain": [
       "Marvel Comics        403\n",
       "DC Comics            215\n",
       "NBC - Heroes          19\n",
       "Dark Horse Comics     18\n",
       "George Lucas          14\n",
       "Image Comics          14\n",
       "Star Trek              6\n",
       "HarperCollins          6\n",
       "SyFy                   5\n",
       "Team Epic TV           5\n",
       "Icon Comics            4\n",
       "ABC Studios            4\n",
       "IDW Publishing         4\n",
       "Shueisha               4\n",
       "Wildstorm              3\n",
       "Sony Pictures          2\n",
       "Hanna-Barbera          1\n",
       "South Park             1\n",
       "Universal Studios      1\n",
       "J. K. Rowling          1\n",
       "Titan Books            1\n",
       "Rebellion              1\n",
       "Microsoft              1\n",
       "J. R. R. Tolkien       1\n",
       "Name: Publisher, dtype: int64"
      ]
     },
     "execution_count": 49,
     "metadata": {},
     "output_type": "execute_result"
    }
   ],
   "source": [
    "df['Publisher'].value_counts()"
   ]
  },
  {
   "cell_type": "code",
   "execution_count": 54,
   "id": "5b07b819",
   "metadata": {},
   "outputs": [
    {
     "data": {
      "text/plain": [
       "-                 635\n",
       "green              21\n",
       "red                 9\n",
       "blue                9\n",
       "white               7\n",
       "silver              5\n",
       "grey                4\n",
       "purple              3\n",
       "yellow              2\n",
       "pink                2\n",
       "gold                2\n",
       "red / black         1\n",
       "black               1\n",
       "orange / white      1\n",
       "gray                1\n",
       "blue-white          1\n",
       "orange              1\n",
       "Name: Skin color, dtype: int64"
      ]
     },
     "execution_count": 54,
     "metadata": {},
     "output_type": "execute_result"
    }
   ],
   "source": [
    "df['Skin color'].value_counts()"
   ]
  },
  {
   "cell_type": "code",
   "execution_count": 59,
   "id": "e482ec8d",
   "metadata": {},
   "outputs": [
    {
     "name": "stderr",
     "output_type": "stream",
     "text": [
      "C:\\Users\\МОиБД\\AppData\\Local\\Temp\\ipykernel_1976\\3267050410.py:1: SettingWithCopyWarning: \n",
      "A value is trying to be set on a copy of a slice from a DataFrame.\n",
      "Try using .loc[row_indexer,col_indexer] = value instead\n",
      "\n",
      "See the caveats in the documentation: https://pandas.pydata.org/pandas-docs/stable/user_guide/indexing.html#returning-a-view-versus-a-copy\n",
      "  df['Skin color']=df['Skin color'].replace('-', 'Not defined')\n"
     ]
    },
    {
     "data": {
      "text/plain": [
       "Not defined       629\n",
       "green              21\n",
       "red                 9\n",
       "blue                9\n",
       "white               7\n",
       "silver              5\n",
       "grey                4\n",
       "purple              3\n",
       "yellow              2\n",
       "pink                2\n",
       "gold                2\n",
       "red / black         1\n",
       "black               1\n",
       "orange / white      1\n",
       "gray                1\n",
       "blue-white          1\n",
       "orange              1\n",
       "Name: Skin color, dtype: int64"
      ]
     },
     "execution_count": 59,
     "metadata": {},
     "output_type": "execute_result"
    }
   ],
   "source": [
    "df['Skin color']=df['Skin color'].replace('-', 'Not defined')\n",
    "df['Skin color'].value_counts()"
   ]
  },
  {
   "cell_type": "markdown",
   "id": "082988a9",
   "metadata": {},
   "source": [
    "назовем неопределенными пустые значения цвета кожи"
   ]
  },
  {
   "cell_type": "code",
   "execution_count": 57,
   "id": "1d87653d",
   "metadata": {},
   "outputs": [
    {
     "data": {
      "text/plain": [
       "good       477\n",
       "bad        200\n",
       "neutral     22\n",
       "-            6\n",
       "Name: Alignment, dtype: int64"
      ]
     },
     "execution_count": 57,
     "metadata": {},
     "output_type": "execute_result"
    }
   ],
   "source": [
    "df['Alignment'].value_counts()"
   ]
  },
  {
   "cell_type": "code",
   "execution_count": 58,
   "id": "d5d2251a",
   "metadata": {},
   "outputs": [
    {
     "data": {
      "text/plain": [
       "good       477\n",
       "bad        200\n",
       "neutral     22\n",
       "Name: Alignment, dtype: int64"
      ]
     },
     "execution_count": 58,
     "metadata": {},
     "output_type": "execute_result"
    }
   ],
   "source": [
    "df = df.loc[df['Alignment'] != '-']\n",
    "df['Alignment'].value_counts()"
   ]
  },
  {
   "cell_type": "code",
   "execution_count": 62,
   "id": "d78a29c8",
   "metadata": {},
   "outputs": [
    {
     "data": {
      "text/plain": [
       "Unnamed: 0    0\n",
       "name          0\n",
       "Gender        0\n",
       "Eye color     0\n",
       "Race          0\n",
       "Hair color    0\n",
       "Height        0\n",
       "Publisher     0\n",
       "Skin color    0\n",
       "Alignment     0\n",
       "Weight        0\n",
       "dtype: int64"
      ]
     },
     "execution_count": 62,
     "metadata": {},
     "output_type": "execute_result"
    }
   ],
   "source": [
    "df.isna().sum()"
   ]
  },
  {
   "cell_type": "code",
   "execution_count": 65,
   "id": "dc382696",
   "metadata": {},
   "outputs": [
    {
     "data": {
      "image/png": "[encoded data removed]",
      "text/plain": [
       "<Figure size 1000x800 with 4 Axes>"
      ]
     },
     "metadata": {},
     "output_type": "display_data"
    }
   ],
   "source": [
    "df.hist(figsize=(10, 8),  bins=30);"
   ]
  },
  {
   "cell_type": "code",
   "execution_count": 67,
   "id": "86e8a832",
   "metadata": {},
   "outputs": [
    {
     "data": {
      "text/plain": [
       "<seaborn.axisgrid.PairGrid at 0x1a1d14f6ef0>"
      ]
     },
     "execution_count": 67,
     "metadata": {},
     "output_type": "execute_result"
    },
    {
     "data": {
      "image/png": "[encoded data removed]",
      "text/plain": [
       "<Figure size 750x750 with 12 Axes>"
      ]
     },
     "metadata": {},
     "output_type": "display_data"
    }
   ],
   "source": [
    "sns.pairplot(df)"
   ]
  },
  {
   "cell_type": "code",
   "execution_count": 68,
   "id": "53f9e368",
   "metadata": {},
   "outputs": [
    {
     "data": {
      "text/plain": [
       "0      Not defined\n",
       "1             blue\n",
       "2              red\n",
       "3      Not defined\n",
       "4      Not defined\n",
       "          ...     \n",
       "729    Not defined\n",
       "730          white\n",
       "731          green\n",
       "732    Not defined\n",
       "733    Not defined\n",
       "Name: Skin color, Length: 699, dtype: object"
      ]
     },
     "execution_count": 68,
     "metadata": {},
     "output_type": "execute_result"
    }
   ],
   "source": [
    "df['Skin color']"
   ]
  },
  {
   "cell_type": "code",
   "execution_count": 69,
   "id": "9d61470f",
   "metadata": {},
   "outputs": [
    {
     "data": {
      "text/plain": [
       "0          Marvel Comics\n",
       "1      Dark Horse Comics\n",
       "2              DC Comics\n",
       "3          Marvel Comics\n",
       "4          Marvel Comics\n",
       "             ...        \n",
       "729        Marvel Comics\n",
       "730        Marvel Comics\n",
       "731         George Lucas\n",
       "732            DC Comics\n",
       "733            DC Comics\n",
       "Name: Publisher, Length: 699, dtype: object"
      ]
     },
     "execution_count": 69,
     "metadata": {},
     "output_type": "execute_result"
    }
   ],
   "source": [
    "df['Publisher']"
   ]
  },
  {
   "cell_type": "code",
   "execution_count": 72,
   "id": "f423a3cd",
   "metadata": {},
   "outputs": [
    {
     "name": "stderr",
     "output_type": "stream",
     "text": [
      "C:\\Users\\МОиБД\\AppData\\Local\\Temp\\ipykernel_1976\\4187711742.py:1: FutureWarning: The default value of numeric_only in DataFrame.corr is deprecated. In a future version, it will default to False. Select only valid columns or specify the value of numeric_only to silence this warning.\n",
      "  sns.heatmap(df[['name', 'Gender', 'Eye color', 'Race', 'Hair color', 'Height', 'Publisher','Skin color','Alignment', 'Weight']].corr(), annot=True);\n"
     ]
    },
    {
     "data": {
      "image/png": "[encoded data removed]",
      "text/plain": [
       "<Figure size 640x480 with 2 Axes>"
      ]
     },
     "metadata": {},
     "output_type": "display_data"
    }
   ],
   "source": [
    "sns.heatmap(df[['name', 'Gender', 'Eye color', 'Race', 'Hair color', 'Height', 'Publisher','Skin color','Alignment', 'Weight']].corr(), annot=True);"
   ]
  },
  {
   "cell_type": "markdown",
   "id": "91e0dfcb",
   "metadata": {},
   "source": [
    "# Вывод"
   ]
  },
  {
   "cell_type": "markdown",
   "id": "15120930",
   "metadata": {},
   "source": [
    "Заполнили пустые значения, добавили новые названия неопределенным полям, исправили аномальные значения высоты и ширины. Сделали визуализацию."
   ]
  }
 ],
 "metadata": {
  "kernelspec": {
   "display_name": "Python 3 (ipykernel)",
   "language": "python",
   "name": "python3"
  },
  "language_info": {
   "codemirror_mode": {
    "name": "ipython",
    "version": 3
   },
   "file_extension": ".py",
   "mimetype": "text/x-python",
   "name": "python",
   "nbconvert_exporter": "python",
   "pygments_lexer": "ipython3",
   "version": "3.10.9"
  }
 },
 "nbformat": 4,
 "nbformat_minor": 5
}
